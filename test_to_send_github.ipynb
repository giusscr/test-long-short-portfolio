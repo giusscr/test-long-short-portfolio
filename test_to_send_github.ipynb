{
  "nbformat": 4,
  "nbformat_minor": 0,
  "metadata": {
    "colab": {
      "provenance": [],
      "include_colab_link": true
    },
    "kernelspec": {
      "name": "python3",
      "display_name": "Python 3"
    }
  },
  "cells": [
    {
      "cell_type": "markdown",
      "metadata": {
        "id": "view-in-github",
        "colab_type": "text"
      },
      "source": [
        "<a href=\"https://colab.research.google.com/github/giusscr/test-long-short-portfolio/blob/main/test_to_send_github.ipynb\" target=\"_parent\"><img src=\"https://colab.research.google.com/assets/colab-badge.svg\" alt=\"Open In Colab\"/></a>"
      ]
    },
    {
      "cell_type": "code",
      "metadata": {
        "id": "-RoaZjT4UovJ",
        "colab": {
          "base_uri": "https://localhost:8080/"
        },
        "outputId": "cbdca24f-c1d4-43f1-bf9b-01f7bc6024a7"
      },
      "source": [
        "!pip install PyPortfolioOpt\n",
        "!pip install yfinance\n",
        "!pip install cvxpy"
      ],
      "execution_count": null,
      "outputs": [
        {
          "output_type": "stream",
          "name": "stdout",
          "text": [
            "Collecting PyPortfolioOpt\n",
            "  Downloading pyportfolioopt-1.5.5-py3-none-any.whl (61 kB)\n",
            "\u001b[2K     \u001b[90m━━━━━━━━━━━━━━━━━━━━━━━━━━━━━━━━━━━━━━━━\u001b[0m \u001b[32m61.9/61.9 kB\u001b[0m \u001b[31m724.8 kB/s\u001b[0m eta \u001b[36m0:00:00\u001b[0m\n",
            "\u001b[?25hRequirement already satisfied: cvxpy<2.0.0,>=1.1.19 in /usr/local/lib/python3.10/dist-packages (from PyPortfolioOpt) (1.3.3)\n",
            "Requirement already satisfied: numpy<2.0.0,>=1.22.4 in /usr/local/lib/python3.10/dist-packages (from PyPortfolioOpt) (1.23.5)\n",
            "Requirement already satisfied: pandas>=0.19 in /usr/local/lib/python3.10/dist-packages (from PyPortfolioOpt) (1.5.3)\n",
            "Requirement already satisfied: scipy<2.0,>=1.3 in /usr/local/lib/python3.10/dist-packages (from PyPortfolioOpt) (1.11.4)\n",
            "Requirement already satisfied: osqp>=0.4.1 in /usr/local/lib/python3.10/dist-packages (from cvxpy<2.0.0,>=1.1.19->PyPortfolioOpt) (0.6.2.post8)\n",
            "Requirement already satisfied: ecos>=2 in /usr/local/lib/python3.10/dist-packages (from cvxpy<2.0.0,>=1.1.19->PyPortfolioOpt) (2.0.12)\n",
            "Requirement already satisfied: scs>=1.1.6 in /usr/local/lib/python3.10/dist-packages (from cvxpy<2.0.0,>=1.1.19->PyPortfolioOpt) (3.2.4.post1)\n",
            "Requirement already satisfied: setuptools>65.5.1 in /usr/local/lib/python3.10/dist-packages (from cvxpy<2.0.0,>=1.1.19->PyPortfolioOpt) (67.7.2)\n",
            "Requirement already satisfied: python-dateutil>=2.8.1 in /usr/local/lib/python3.10/dist-packages (from pandas>=0.19->PyPortfolioOpt) (2.8.2)\n",
            "Requirement already satisfied: pytz>=2020.1 in /usr/local/lib/python3.10/dist-packages (from pandas>=0.19->PyPortfolioOpt) (2023.4)\n",
            "Requirement already satisfied: qdldl in /usr/local/lib/python3.10/dist-packages (from osqp>=0.4.1->cvxpy<2.0.0,>=1.1.19->PyPortfolioOpt) (0.1.7.post0)\n",
            "Requirement already satisfied: six>=1.5 in /usr/local/lib/python3.10/dist-packages (from python-dateutil>=2.8.1->pandas>=0.19->PyPortfolioOpt) (1.16.0)\n",
            "Installing collected packages: PyPortfolioOpt\n",
            "Successfully installed PyPortfolioOpt-1.5.5\n",
            "Requirement already satisfied: yfinance in /usr/local/lib/python3.10/dist-packages (0.2.36)\n",
            "Requirement already satisfied: pandas>=1.3.0 in /usr/local/lib/python3.10/dist-packages (from yfinance) (1.5.3)\n",
            "Requirement already satisfied: numpy>=1.16.5 in /usr/local/lib/python3.10/dist-packages (from yfinance) (1.23.5)\n",
            "Requirement already satisfied: requests>=2.31 in /usr/local/lib/python3.10/dist-packages (from yfinance) (2.31.0)\n",
            "Requirement already satisfied: multitasking>=0.0.7 in /usr/local/lib/python3.10/dist-packages (from yfinance) (0.0.11)\n",
            "Requirement already satisfied: lxml>=4.9.1 in /usr/local/lib/python3.10/dist-packages (from yfinance) (4.9.4)\n",
            "Requirement already satisfied: appdirs>=1.4.4 in /usr/local/lib/python3.10/dist-packages (from yfinance) (1.4.4)\n",
            "Requirement already satisfied: pytz>=2022.5 in /usr/local/lib/python3.10/dist-packages (from yfinance) (2023.4)\n",
            "Requirement already satisfied: frozendict>=2.3.4 in /usr/local/lib/python3.10/dist-packages (from yfinance) (2.4.0)\n",
            "Requirement already satisfied: peewee>=3.16.2 in /usr/local/lib/python3.10/dist-packages (from yfinance) (3.17.0)\n",
            "Requirement already satisfied: beautifulsoup4>=4.11.1 in /usr/local/lib/python3.10/dist-packages (from yfinance) (4.11.2)\n",
            "Requirement already satisfied: html5lib>=1.1 in /usr/local/lib/python3.10/dist-packages (from yfinance) (1.1)\n",
            "Requirement already satisfied: soupsieve>1.2 in /usr/local/lib/python3.10/dist-packages (from beautifulsoup4>=4.11.1->yfinance) (2.5)\n",
            "Requirement already satisfied: six>=1.9 in /usr/local/lib/python3.10/dist-packages (from html5lib>=1.1->yfinance) (1.16.0)\n",
            "Requirement already satisfied: webencodings in /usr/local/lib/python3.10/dist-packages (from html5lib>=1.1->yfinance) (0.5.1)\n",
            "Requirement already satisfied: python-dateutil>=2.8.1 in /usr/local/lib/python3.10/dist-packages (from pandas>=1.3.0->yfinance) (2.8.2)\n",
            "Requirement already satisfied: charset-normalizer<4,>=2 in /usr/local/lib/python3.10/dist-packages (from requests>=2.31->yfinance) (3.3.2)\n",
            "Requirement already satisfied: idna<4,>=2.5 in /usr/local/lib/python3.10/dist-packages (from requests>=2.31->yfinance) (3.6)\n",
            "Requirement already satisfied: urllib3<3,>=1.21.1 in /usr/local/lib/python3.10/dist-packages (from requests>=2.31->yfinance) (2.0.7)\n",
            "Requirement already satisfied: certifi>=2017.4.17 in /usr/local/lib/python3.10/dist-packages (from requests>=2.31->yfinance) (2023.11.17)\n",
            "Requirement already satisfied: cvxpy in /usr/local/lib/python3.10/dist-packages (1.3.3)\n",
            "Requirement already satisfied: osqp>=0.4.1 in /usr/local/lib/python3.10/dist-packages (from cvxpy) (0.6.2.post8)\n",
            "Requirement already satisfied: ecos>=2 in /usr/local/lib/python3.10/dist-packages (from cvxpy) (2.0.12)\n",
            "Requirement already satisfied: scs>=1.1.6 in /usr/local/lib/python3.10/dist-packages (from cvxpy) (3.2.4.post1)\n",
            "Requirement already satisfied: numpy>=1.15 in /usr/local/lib/python3.10/dist-packages (from cvxpy) (1.23.5)\n",
            "Requirement already satisfied: scipy>=1.1.0 in /usr/local/lib/python3.10/dist-packages (from cvxpy) (1.11.4)\n",
            "Requirement already satisfied: setuptools>65.5.1 in /usr/local/lib/python3.10/dist-packages (from cvxpy) (67.7.2)\n",
            "Requirement already satisfied: qdldl in /usr/local/lib/python3.10/dist-packages (from osqp>=0.4.1->cvxpy) (0.1.7.post0)\n"
          ]
        }
      ]
    },
    {
      "cell_type": "code",
      "metadata": {
        "id": "Vk4yyc--GB5R",
        "colab": {
          "base_uri": "https://localhost:8080/"
        },
        "outputId": "b2d9c4cf-bfea-41c6-901c-e2e4b3a4eda4"
      },
      "source": [
        "import yfinance as yf\n",
        "import matplotlib.pyplot as plt\n",
        "from pypfopt import EfficientFrontier\n",
        "from pypfopt import risk_models\n",
        "from pypfopt import expected_returns\n",
        "from pypfopt import plotting\n",
        "from pypfopt import objective_functions\n",
        "import numpy as np\n",
        "import pandas as pd"
      ],
      "execution_count": null,
      "outputs": [
        {
          "output_type": "stream",
          "name": "stderr",
          "text": [
            "/usr/local/lib/python3.10/dist-packages/yfinance/base.py:48: FutureWarning: The default dtype for empty Series will be 'object' instead of 'float64' in a future version. Specify a dtype explicitly to silence this warning.\n",
            "  _empty_series = pd.Series()\n"
          ]
        }
      ]
    },
    {
      "cell_type": "markdown",
      "metadata": {
        "id": "DAXTkL4qKCZ8"
      },
      "source": [
        "**Download Stock Price Data**"
      ]
    },
    {
      "cell_type": "code",
      "metadata": {
        "colab": {
          "base_uri": "https://localhost:8080/"
        },
        "id": "jVJSc5VUKFtu",
        "outputId": "9a9a84f6-c635-47cc-bd9c-e40f1abc53c6"
      },
      "source": [
        "stocks = [\"ADBE\", \"AMZN\", \"ENPH\", \"FTNT\", \"MCD\", \"PFE\"]\n",
        "stock_data = yf.download( stocks, start=\"2020-10-1\", end=\"2024-01-5\")[\"Adj Close\"]"
      ],
      "execution_count": null,
      "outputs": [
        {
          "output_type": "stream",
          "name": "stderr",
          "text": [
            "[*********************100%%**********************]  6 of 6 completed\n"
          ]
        }
      ]
    },
    {
      "cell_type": "code",
      "metadata": {
        "colab": {
          "base_uri": "https://localhost:8080/",
          "height": 455
        },
        "id": "p7KVbG0CKw-f",
        "outputId": "306d4dee-6004-4cda-e794-324cfd8422c9"
      },
      "source": [
        "stock_data"
      ],
      "execution_count": null,
      "outputs": [
        {
          "output_type": "execute_result",
          "data": {
            "text/plain": [
              "Ticker            ADBE        AMZN        ENPH       FTNT         MCD  \\\n",
              "Date                                                                    \n",
              "2020-10-01  499.510010  161.063004   89.510002  24.049999  204.110550   \n",
              "2020-10-02  478.989990  156.250000   90.430000  23.275999  206.973450   \n",
              "2020-10-05  486.470001  159.960007   98.050003  23.818001  210.133743   \n",
              "2020-10-06  478.980011  154.998001   98.570000  23.660000  208.293320   \n",
              "2020-10-07  493.149994  159.784500  107.820000  24.138000  210.514862   \n",
              "...                ...         ...         ...        ...         ...   \n",
              "2023-12-28  595.520020  153.380005  134.789993  59.400002  295.839996   \n",
              "2023-12-29  596.599976  151.940002  132.139999  58.529999  296.510010   \n",
              "2024-01-02  580.070007  149.929993  131.240005  57.779999  297.040009   \n",
              "2024-01-03  571.789978  148.470001  122.629997  57.849998  294.390015   \n",
              "2024-01-04  567.049988  144.570007  118.070000  58.389999  291.739990   \n",
              "\n",
              "Ticker            PFE  \n",
              "Date                   \n",
              "2020-10-01  30.002163  \n",
              "2020-10-02  30.010414  \n",
              "2020-10-05  30.315632  \n",
              "2020-10-06  29.837177  \n",
              "2020-10-07  30.084652  \n",
              "...               ...  \n",
              "2023-12-28  28.363180  \n",
              "2023-12-29  28.363180  \n",
              "2024-01-02  29.289244  \n",
              "2024-01-03  29.289244  \n",
              "2024-01-04  28.658733  \n",
              "\n",
              "[820 rows x 6 columns]"
            ],
            "text/html": [
              "\n",
              "  <div id=\"df-b590f20c-135f-4375-88ad-6b581adc4656\" class=\"colab-df-container\">\n",
              "    <div>\n",
              "<style scoped>\n",
              "    .dataframe tbody tr th:only-of-type {\n",
              "        vertical-align: middle;\n",
              "    }\n",
              "\n",
              "    .dataframe tbody tr th {\n",
              "        vertical-align: top;\n",
              "    }\n",
              "\n",
              "    .dataframe thead th {\n",
              "        text-align: right;\n",
              "    }\n",
              "</style>\n",
              "<table border=\"1\" class=\"dataframe\">\n",
              "  <thead>\n",
              "    <tr style=\"text-align: right;\">\n",
              "      <th>Ticker</th>\n",
              "      <th>ADBE</th>\n",
              "      <th>AMZN</th>\n",
              "      <th>ENPH</th>\n",
              "      <th>FTNT</th>\n",
              "      <th>MCD</th>\n",
              "      <th>PFE</th>\n",
              "    </tr>\n",
              "    <tr>\n",
              "      <th>Date</th>\n",
              "      <th></th>\n",
              "      <th></th>\n",
              "      <th></th>\n",
              "      <th></th>\n",
              "      <th></th>\n",
              "      <th></th>\n",
              "    </tr>\n",
              "  </thead>\n",
              "  <tbody>\n",
              "    <tr>\n",
              "      <th>2020-10-01</th>\n",
              "      <td>499.510010</td>\n",
              "      <td>161.063004</td>\n",
              "      <td>89.510002</td>\n",
              "      <td>24.049999</td>\n",
              "      <td>204.110550</td>\n",
              "      <td>30.002163</td>\n",
              "    </tr>\n",
              "    <tr>\n",
              "      <th>2020-10-02</th>\n",
              "      <td>478.989990</td>\n",
              "      <td>156.250000</td>\n",
              "      <td>90.430000</td>\n",
              "      <td>23.275999</td>\n",
              "      <td>206.973450</td>\n",
              "      <td>30.010414</td>\n",
              "    </tr>\n",
              "    <tr>\n",
              "      <th>2020-10-05</th>\n",
              "      <td>486.470001</td>\n",
              "      <td>159.960007</td>\n",
              "      <td>98.050003</td>\n",
              "      <td>23.818001</td>\n",
              "      <td>210.133743</td>\n",
              "      <td>30.315632</td>\n",
              "    </tr>\n",
              "    <tr>\n",
              "      <th>2020-10-06</th>\n",
              "      <td>478.980011</td>\n",
              "      <td>154.998001</td>\n",
              "      <td>98.570000</td>\n",
              "      <td>23.660000</td>\n",
              "      <td>208.293320</td>\n",
              "      <td>29.837177</td>\n",
              "    </tr>\n",
              "    <tr>\n",
              "      <th>2020-10-07</th>\n",
              "      <td>493.149994</td>\n",
              "      <td>159.784500</td>\n",
              "      <td>107.820000</td>\n",
              "      <td>24.138000</td>\n",
              "      <td>210.514862</td>\n",
              "      <td>30.084652</td>\n",
              "    </tr>\n",
              "    <tr>\n",
              "      <th>...</th>\n",
              "      <td>...</td>\n",
              "      <td>...</td>\n",
              "      <td>...</td>\n",
              "      <td>...</td>\n",
              "      <td>...</td>\n",
              "      <td>...</td>\n",
              "    </tr>\n",
              "    <tr>\n",
              "      <th>2023-12-28</th>\n",
              "      <td>595.520020</td>\n",
              "      <td>153.380005</td>\n",
              "      <td>134.789993</td>\n",
              "      <td>59.400002</td>\n",
              "      <td>295.839996</td>\n",
              "      <td>28.363180</td>\n",
              "    </tr>\n",
              "    <tr>\n",
              "      <th>2023-12-29</th>\n",
              "      <td>596.599976</td>\n",
              "      <td>151.940002</td>\n",
              "      <td>132.139999</td>\n",
              "      <td>58.529999</td>\n",
              "      <td>296.510010</td>\n",
              "      <td>28.363180</td>\n",
              "    </tr>\n",
              "    <tr>\n",
              "      <th>2024-01-02</th>\n",
              "      <td>580.070007</td>\n",
              "      <td>149.929993</td>\n",
              "      <td>131.240005</td>\n",
              "      <td>57.779999</td>\n",
              "      <td>297.040009</td>\n",
              "      <td>29.289244</td>\n",
              "    </tr>\n",
              "    <tr>\n",
              "      <th>2024-01-03</th>\n",
              "      <td>571.789978</td>\n",
              "      <td>148.470001</td>\n",
              "      <td>122.629997</td>\n",
              "      <td>57.849998</td>\n",
              "      <td>294.390015</td>\n",
              "      <td>29.289244</td>\n",
              "    </tr>\n",
              "    <tr>\n",
              "      <th>2024-01-04</th>\n",
              "      <td>567.049988</td>\n",
              "      <td>144.570007</td>\n",
              "      <td>118.070000</td>\n",
              "      <td>58.389999</td>\n",
              "      <td>291.739990</td>\n",
              "      <td>28.658733</td>\n",
              "    </tr>\n",
              "  </tbody>\n",
              "</table>\n",
              "<p>820 rows × 6 columns</p>\n",
              "</div>\n",
              "    <div class=\"colab-df-buttons\">\n",
              "\n",
              "  <div class=\"colab-df-container\">\n",
              "    <button class=\"colab-df-convert\" onclick=\"convertToInteractive('df-b590f20c-135f-4375-88ad-6b581adc4656')\"\n",
              "            title=\"Convert this dataframe to an interactive table.\"\n",
              "            style=\"display:none;\">\n",
              "\n",
              "  <svg xmlns=\"http://www.w3.org/2000/svg\" height=\"24px\" viewBox=\"0 -960 960 960\">\n",
              "    <path d=\"M120-120v-720h720v720H120Zm60-500h600v-160H180v160Zm220 220h160v-160H400v160Zm0 220h160v-160H400v160ZM180-400h160v-160H180v160Zm440 0h160v-160H620v160ZM180-180h160v-160H180v160Zm440 0h160v-160H620v160Z\"/>\n",
              "  </svg>\n",
              "    </button>\n",
              "\n",
              "  <style>\n",
              "    .colab-df-container {\n",
              "      display:flex;\n",
              "      gap: 12px;\n",
              "    }\n",
              "\n",
              "    .colab-df-convert {\n",
              "      background-color: #E8F0FE;\n",
              "      border: none;\n",
              "      border-radius: 50%;\n",
              "      cursor: pointer;\n",
              "      display: none;\n",
              "      fill: #1967D2;\n",
              "      height: 32px;\n",
              "      padding: 0 0 0 0;\n",
              "      width: 32px;\n",
              "    }\n",
              "\n",
              "    .colab-df-convert:hover {\n",
              "      background-color: #E2EBFA;\n",
              "      box-shadow: 0px 1px 2px rgba(60, 64, 67, 0.3), 0px 1px 3px 1px rgba(60, 64, 67, 0.15);\n",
              "      fill: #174EA6;\n",
              "    }\n",
              "\n",
              "    .colab-df-buttons div {\n",
              "      margin-bottom: 4px;\n",
              "    }\n",
              "\n",
              "    [theme=dark] .colab-df-convert {\n",
              "      background-color: #3B4455;\n",
              "      fill: #D2E3FC;\n",
              "    }\n",
              "\n",
              "    [theme=dark] .colab-df-convert:hover {\n",
              "      background-color: #434B5C;\n",
              "      box-shadow: 0px 1px 3px 1px rgba(0, 0, 0, 0.15);\n",
              "      filter: drop-shadow(0px 1px 2px rgba(0, 0, 0, 0.3));\n",
              "      fill: #FFFFFF;\n",
              "    }\n",
              "  </style>\n",
              "\n",
              "    <script>\n",
              "      const buttonEl =\n",
              "        document.querySelector('#df-b590f20c-135f-4375-88ad-6b581adc4656 button.colab-df-convert');\n",
              "      buttonEl.style.display =\n",
              "        google.colab.kernel.accessAllowed ? 'block' : 'none';\n",
              "\n",
              "      async function convertToInteractive(key) {\n",
              "        const element = document.querySelector('#df-b590f20c-135f-4375-88ad-6b581adc4656');\n",
              "        const dataTable =\n",
              "          await google.colab.kernel.invokeFunction('convertToInteractive',\n",
              "                                                    [key], {});\n",
              "        if (!dataTable) return;\n",
              "\n",
              "        const docLinkHtml = 'Like what you see? Visit the ' +\n",
              "          '<a target=\"_blank\" href=https://colab.research.google.com/notebooks/data_table.ipynb>data table notebook</a>'\n",
              "          + ' to learn more about interactive tables.';\n",
              "        element.innerHTML = '';\n",
              "        dataTable['output_type'] = 'display_data';\n",
              "        await google.colab.output.renderOutput(dataTable, element);\n",
              "        const docLink = document.createElement('div');\n",
              "        docLink.innerHTML = docLinkHtml;\n",
              "        element.appendChild(docLink);\n",
              "      }\n",
              "    </script>\n",
              "  </div>\n",
              "\n",
              "\n",
              "<div id=\"df-479db99e-eee3-452a-8bc8-04dada676e31\">\n",
              "  <button class=\"colab-df-quickchart\" onclick=\"quickchart('df-479db99e-eee3-452a-8bc8-04dada676e31')\"\n",
              "            title=\"Suggest charts\"\n",
              "            style=\"display:none;\">\n",
              "\n",
              "<svg xmlns=\"http://www.w3.org/2000/svg\" height=\"24px\"viewBox=\"0 0 24 24\"\n",
              "     width=\"24px\">\n",
              "    <g>\n",
              "        <path d=\"M19 3H5c-1.1 0-2 .9-2 2v14c0 1.1.9 2 2 2h14c1.1 0 2-.9 2-2V5c0-1.1-.9-2-2-2zM9 17H7v-7h2v7zm4 0h-2V7h2v10zm4 0h-2v-4h2v4z\"/>\n",
              "    </g>\n",
              "</svg>\n",
              "  </button>\n",
              "\n",
              "<style>\n",
              "  .colab-df-quickchart {\n",
              "      --bg-color: #E8F0FE;\n",
              "      --fill-color: #1967D2;\n",
              "      --hover-bg-color: #E2EBFA;\n",
              "      --hover-fill-color: #174EA6;\n",
              "      --disabled-fill-color: #AAA;\n",
              "      --disabled-bg-color: #DDD;\n",
              "  }\n",
              "\n",
              "  [theme=dark] .colab-df-quickchart {\n",
              "      --bg-color: #3B4455;\n",
              "      --fill-color: #D2E3FC;\n",
              "      --hover-bg-color: #434B5C;\n",
              "      --hover-fill-color: #FFFFFF;\n",
              "      --disabled-bg-color: #3B4455;\n",
              "      --disabled-fill-color: #666;\n",
              "  }\n",
              "\n",
              "  .colab-df-quickchart {\n",
              "    background-color: var(--bg-color);\n",
              "    border: none;\n",
              "    border-radius: 50%;\n",
              "    cursor: pointer;\n",
              "    display: none;\n",
              "    fill: var(--fill-color);\n",
              "    height: 32px;\n",
              "    padding: 0;\n",
              "    width: 32px;\n",
              "  }\n",
              "\n",
              "  .colab-df-quickchart:hover {\n",
              "    background-color: var(--hover-bg-color);\n",
              "    box-shadow: 0 1px 2px rgba(60, 64, 67, 0.3), 0 1px 3px 1px rgba(60, 64, 67, 0.15);\n",
              "    fill: var(--button-hover-fill-color);\n",
              "  }\n",
              "\n",
              "  .colab-df-quickchart-complete:disabled,\n",
              "  .colab-df-quickchart-complete:disabled:hover {\n",
              "    background-color: var(--disabled-bg-color);\n",
              "    fill: var(--disabled-fill-color);\n",
              "    box-shadow: none;\n",
              "  }\n",
              "\n",
              "  .colab-df-spinner {\n",
              "    border: 2px solid var(--fill-color);\n",
              "    border-color: transparent;\n",
              "    border-bottom-color: var(--fill-color);\n",
              "    animation:\n",
              "      spin 1s steps(1) infinite;\n",
              "  }\n",
              "\n",
              "  @keyframes spin {\n",
              "    0% {\n",
              "      border-color: transparent;\n",
              "      border-bottom-color: var(--fill-color);\n",
              "      border-left-color: var(--fill-color);\n",
              "    }\n",
              "    20% {\n",
              "      border-color: transparent;\n",
              "      border-left-color: var(--fill-color);\n",
              "      border-top-color: var(--fill-color);\n",
              "    }\n",
              "    30% {\n",
              "      border-color: transparent;\n",
              "      border-left-color: var(--fill-color);\n",
              "      border-top-color: var(--fill-color);\n",
              "      border-right-color: var(--fill-color);\n",
              "    }\n",
              "    40% {\n",
              "      border-color: transparent;\n",
              "      border-right-color: var(--fill-color);\n",
              "      border-top-color: var(--fill-color);\n",
              "    }\n",
              "    60% {\n",
              "      border-color: transparent;\n",
              "      border-right-color: var(--fill-color);\n",
              "    }\n",
              "    80% {\n",
              "      border-color: transparent;\n",
              "      border-right-color: var(--fill-color);\n",
              "      border-bottom-color: var(--fill-color);\n",
              "    }\n",
              "    90% {\n",
              "      border-color: transparent;\n",
              "      border-bottom-color: var(--fill-color);\n",
              "    }\n",
              "  }\n",
              "</style>\n",
              "\n",
              "  <script>\n",
              "    async function quickchart(key) {\n",
              "      const quickchartButtonEl =\n",
              "        document.querySelector('#' + key + ' button');\n",
              "      quickchartButtonEl.disabled = true;  // To prevent multiple clicks.\n",
              "      quickchartButtonEl.classList.add('colab-df-spinner');\n",
              "      try {\n",
              "        const charts = await google.colab.kernel.invokeFunction(\n",
              "            'suggestCharts', [key], {});\n",
              "      } catch (error) {\n",
              "        console.error('Error during call to suggestCharts:', error);\n",
              "      }\n",
              "      quickchartButtonEl.classList.remove('colab-df-spinner');\n",
              "      quickchartButtonEl.classList.add('colab-df-quickchart-complete');\n",
              "    }\n",
              "    (() => {\n",
              "      let quickchartButtonEl =\n",
              "        document.querySelector('#df-479db99e-eee3-452a-8bc8-04dada676e31 button');\n",
              "      quickchartButtonEl.style.display =\n",
              "        google.colab.kernel.accessAllowed ? 'block' : 'none';\n",
              "    })();\n",
              "  </script>\n",
              "</div>\n",
              "    </div>\n",
              "  </div>\n"
            ]
          },
          "metadata": {},
          "execution_count": 4
        }
      ]
    },
    {
      "cell_type": "markdown",
      "source": [
        "##A)STOCK RETURNS"
      ],
      "metadata": {
        "id": "WJ8S6LW2RZbb"
      }
    },
    {
      "cell_type": "markdown",
      "source": [
        "###1)ORIGINAL STOCK RETURNS"
      ],
      "metadata": {
        "id": "7wKHyiAxQvgM"
      }
    },
    {
      "cell_type": "code",
      "metadata": {
        "id": "6WNOW2tOwZze",
        "colab": {
          "base_uri": "https://localhost:8080/",
          "height": 455
        },
        "outputId": "1d28741f-8774-400e-9fe3-b0de597ea6a0"
      },
      "source": [
        "stock_returns = stock_data.pct_change()[1:]\n",
        "stock_returns"
      ],
      "execution_count": null,
      "outputs": [
        {
          "output_type": "execute_result",
          "data": {
            "text/plain": [
              "Ticker          ADBE      AMZN      ENPH      FTNT       MCD       PFE\n",
              "Date                                                                  \n",
              "2020-10-02 -0.041080 -0.029883  0.010278 -0.032183  0.014026  0.000275\n",
              "2020-10-05  0.015616  0.023744  0.084264  0.023286  0.015269  0.010170\n",
              "2020-10-06 -0.015397 -0.031020  0.005303 -0.006634 -0.008758 -0.015782\n",
              "2020-10-07  0.029584  0.030881  0.093842  0.020203  0.010665  0.008294\n",
              "2020-10-08 -0.004684 -0.001608 -0.021517  0.007871 -0.003002  0.011516\n",
              "...              ...       ...       ...       ...       ...       ...\n",
              "2023-12-28 -0.000939  0.000261 -0.006193  0.001011  0.004380  0.006291\n",
              "2023-12-29  0.001813 -0.009388 -0.019660 -0.014647  0.002265  0.000000\n",
              "2024-01-02 -0.027707 -0.013229 -0.006811 -0.012814  0.001787  0.032650\n",
              "2024-01-03 -0.014274 -0.009738 -0.065605  0.001211 -0.008921  0.000000\n",
              "2024-01-04 -0.008290 -0.026268 -0.037185  0.009335 -0.009002 -0.021527\n",
              "\n",
              "[819 rows x 6 columns]"
            ],
            "text/html": [
              "\n",
              "  <div id=\"df-2b9a945f-f903-4c8f-981a-074df45aed24\" class=\"colab-df-container\">\n",
              "    <div>\n",
              "<style scoped>\n",
              "    .dataframe tbody tr th:only-of-type {\n",
              "        vertical-align: middle;\n",
              "    }\n",
              "\n",
              "    .dataframe tbody tr th {\n",
              "        vertical-align: top;\n",
              "    }\n",
              "\n",
              "    .dataframe thead th {\n",
              "        text-align: right;\n",
              "    }\n",
              "</style>\n",
              "<table border=\"1\" class=\"dataframe\">\n",
              "  <thead>\n",
              "    <tr style=\"text-align: right;\">\n",
              "      <th>Ticker</th>\n",
              "      <th>ADBE</th>\n",
              "      <th>AMZN</th>\n",
              "      <th>ENPH</th>\n",
              "      <th>FTNT</th>\n",
              "      <th>MCD</th>\n",
              "      <th>PFE</th>\n",
              "    </tr>\n",
              "    <tr>\n",
              "      <th>Date</th>\n",
              "      <th></th>\n",
              "      <th></th>\n",
              "      <th></th>\n",
              "      <th></th>\n",
              "      <th></th>\n",
              "      <th></th>\n",
              "    </tr>\n",
              "  </thead>\n",
              "  <tbody>\n",
              "    <tr>\n",
              "      <th>2020-10-02</th>\n",
              "      <td>-0.041080</td>\n",
              "      <td>-0.029883</td>\n",
              "      <td>0.010278</td>\n",
              "      <td>-0.032183</td>\n",
              "      <td>0.014026</td>\n",
              "      <td>0.000275</td>\n",
              "    </tr>\n",
              "    <tr>\n",
              "      <th>2020-10-05</th>\n",
              "      <td>0.015616</td>\n",
              "      <td>0.023744</td>\n",
              "      <td>0.084264</td>\n",
              "      <td>0.023286</td>\n",
              "      <td>0.015269</td>\n",
              "      <td>0.010170</td>\n",
              "    </tr>\n",
              "    <tr>\n",
              "      <th>2020-10-06</th>\n",
              "      <td>-0.015397</td>\n",
              "      <td>-0.031020</td>\n",
              "      <td>0.005303</td>\n",
              "      <td>-0.006634</td>\n",
              "      <td>-0.008758</td>\n",
              "      <td>-0.015782</td>\n",
              "    </tr>\n",
              "    <tr>\n",
              "      <th>2020-10-07</th>\n",
              "      <td>0.029584</td>\n",
              "      <td>0.030881</td>\n",
              "      <td>0.093842</td>\n",
              "      <td>0.020203</td>\n",
              "      <td>0.010665</td>\n",
              "      <td>0.008294</td>\n",
              "    </tr>\n",
              "    <tr>\n",
              "      <th>2020-10-08</th>\n",
              "      <td>-0.004684</td>\n",
              "      <td>-0.001608</td>\n",
              "      <td>-0.021517</td>\n",
              "      <td>0.007871</td>\n",
              "      <td>-0.003002</td>\n",
              "      <td>0.011516</td>\n",
              "    </tr>\n",
              "    <tr>\n",
              "      <th>...</th>\n",
              "      <td>...</td>\n",
              "      <td>...</td>\n",
              "      <td>...</td>\n",
              "      <td>...</td>\n",
              "      <td>...</td>\n",
              "      <td>...</td>\n",
              "    </tr>\n",
              "    <tr>\n",
              "      <th>2023-12-28</th>\n",
              "      <td>-0.000939</td>\n",
              "      <td>0.000261</td>\n",
              "      <td>-0.006193</td>\n",
              "      <td>0.001011</td>\n",
              "      <td>0.004380</td>\n",
              "      <td>0.006291</td>\n",
              "    </tr>\n",
              "    <tr>\n",
              "      <th>2023-12-29</th>\n",
              "      <td>0.001813</td>\n",
              "      <td>-0.009388</td>\n",
              "      <td>-0.019660</td>\n",
              "      <td>-0.014647</td>\n",
              "      <td>0.002265</td>\n",
              "      <td>0.000000</td>\n",
              "    </tr>\n",
              "    <tr>\n",
              "      <th>2024-01-02</th>\n",
              "      <td>-0.027707</td>\n",
              "      <td>-0.013229</td>\n",
              "      <td>-0.006811</td>\n",
              "      <td>-0.012814</td>\n",
              "      <td>0.001787</td>\n",
              "      <td>0.032650</td>\n",
              "    </tr>\n",
              "    <tr>\n",
              "      <th>2024-01-03</th>\n",
              "      <td>-0.014274</td>\n",
              "      <td>-0.009738</td>\n",
              "      <td>-0.065605</td>\n",
              "      <td>0.001211</td>\n",
              "      <td>-0.008921</td>\n",
              "      <td>0.000000</td>\n",
              "    </tr>\n",
              "    <tr>\n",
              "      <th>2024-01-04</th>\n",
              "      <td>-0.008290</td>\n",
              "      <td>-0.026268</td>\n",
              "      <td>-0.037185</td>\n",
              "      <td>0.009335</td>\n",
              "      <td>-0.009002</td>\n",
              "      <td>-0.021527</td>\n",
              "    </tr>\n",
              "  </tbody>\n",
              "</table>\n",
              "<p>819 rows × 6 columns</p>\n",
              "</div>\n",
              "    <div class=\"colab-df-buttons\">\n",
              "\n",
              "  <div class=\"colab-df-container\">\n",
              "    <button class=\"colab-df-convert\" onclick=\"convertToInteractive('df-2b9a945f-f903-4c8f-981a-074df45aed24')\"\n",
              "            title=\"Convert this dataframe to an interactive table.\"\n",
              "            style=\"display:none;\">\n",
              "\n",
              "  <svg xmlns=\"http://www.w3.org/2000/svg\" height=\"24px\" viewBox=\"0 -960 960 960\">\n",
              "    <path d=\"M120-120v-720h720v720H120Zm60-500h600v-160H180v160Zm220 220h160v-160H400v160Zm0 220h160v-160H400v160ZM180-400h160v-160H180v160Zm440 0h160v-160H620v160ZM180-180h160v-160H180v160Zm440 0h160v-160H620v160Z\"/>\n",
              "  </svg>\n",
              "    </button>\n",
              "\n",
              "  <style>\n",
              "    .colab-df-container {\n",
              "      display:flex;\n",
              "      gap: 12px;\n",
              "    }\n",
              "\n",
              "    .colab-df-convert {\n",
              "      background-color: #E8F0FE;\n",
              "      border: none;\n",
              "      border-radius: 50%;\n",
              "      cursor: pointer;\n",
              "      display: none;\n",
              "      fill: #1967D2;\n",
              "      height: 32px;\n",
              "      padding: 0 0 0 0;\n",
              "      width: 32px;\n",
              "    }\n",
              "\n",
              "    .colab-df-convert:hover {\n",
              "      background-color: #E2EBFA;\n",
              "      box-shadow: 0px 1px 2px rgba(60, 64, 67, 0.3), 0px 1px 3px 1px rgba(60, 64, 67, 0.15);\n",
              "      fill: #174EA6;\n",
              "    }\n",
              "\n",
              "    .colab-df-buttons div {\n",
              "      margin-bottom: 4px;\n",
              "    }\n",
              "\n",
              "    [theme=dark] .colab-df-convert {\n",
              "      background-color: #3B4455;\n",
              "      fill: #D2E3FC;\n",
              "    }\n",
              "\n",
              "    [theme=dark] .colab-df-convert:hover {\n",
              "      background-color: #434B5C;\n",
              "      box-shadow: 0px 1px 3px 1px rgba(0, 0, 0, 0.15);\n",
              "      filter: drop-shadow(0px 1px 2px rgba(0, 0, 0, 0.3));\n",
              "      fill: #FFFFFF;\n",
              "    }\n",
              "  </style>\n",
              "\n",
              "    <script>\n",
              "      const buttonEl =\n",
              "        document.querySelector('#df-2b9a945f-f903-4c8f-981a-074df45aed24 button.colab-df-convert');\n",
              "      buttonEl.style.display =\n",
              "        google.colab.kernel.accessAllowed ? 'block' : 'none';\n",
              "\n",
              "      async function convertToInteractive(key) {\n",
              "        const element = document.querySelector('#df-2b9a945f-f903-4c8f-981a-074df45aed24');\n",
              "        const dataTable =\n",
              "          await google.colab.kernel.invokeFunction('convertToInteractive',\n",
              "                                                    [key], {});\n",
              "        if (!dataTable) return;\n",
              "\n",
              "        const docLinkHtml = 'Like what you see? Visit the ' +\n",
              "          '<a target=\"_blank\" href=https://colab.research.google.com/notebooks/data_table.ipynb>data table notebook</a>'\n",
              "          + ' to learn more about interactive tables.';\n",
              "        element.innerHTML = '';\n",
              "        dataTable['output_type'] = 'display_data';\n",
              "        await google.colab.output.renderOutput(dataTable, element);\n",
              "        const docLink = document.createElement('div');\n",
              "        docLink.innerHTML = docLinkHtml;\n",
              "        element.appendChild(docLink);\n",
              "      }\n",
              "    </script>\n",
              "  </div>\n",
              "\n",
              "\n",
              "<div id=\"df-6aa02eb2-bab6-448b-90ee-c92db40c6db2\">\n",
              "  <button class=\"colab-df-quickchart\" onclick=\"quickchart('df-6aa02eb2-bab6-448b-90ee-c92db40c6db2')\"\n",
              "            title=\"Suggest charts\"\n",
              "            style=\"display:none;\">\n",
              "\n",
              "<svg xmlns=\"http://www.w3.org/2000/svg\" height=\"24px\"viewBox=\"0 0 24 24\"\n",
              "     width=\"24px\">\n",
              "    <g>\n",
              "        <path d=\"M19 3H5c-1.1 0-2 .9-2 2v14c0 1.1.9 2 2 2h14c1.1 0 2-.9 2-2V5c0-1.1-.9-2-2-2zM9 17H7v-7h2v7zm4 0h-2V7h2v10zm4 0h-2v-4h2v4z\"/>\n",
              "    </g>\n",
              "</svg>\n",
              "  </button>\n",
              "\n",
              "<style>\n",
              "  .colab-df-quickchart {\n",
              "      --bg-color: #E8F0FE;\n",
              "      --fill-color: #1967D2;\n",
              "      --hover-bg-color: #E2EBFA;\n",
              "      --hover-fill-color: #174EA6;\n",
              "      --disabled-fill-color: #AAA;\n",
              "      --disabled-bg-color: #DDD;\n",
              "  }\n",
              "\n",
              "  [theme=dark] .colab-df-quickchart {\n",
              "      --bg-color: #3B4455;\n",
              "      --fill-color: #D2E3FC;\n",
              "      --hover-bg-color: #434B5C;\n",
              "      --hover-fill-color: #FFFFFF;\n",
              "      --disabled-bg-color: #3B4455;\n",
              "      --disabled-fill-color: #666;\n",
              "  }\n",
              "\n",
              "  .colab-df-quickchart {\n",
              "    background-color: var(--bg-color);\n",
              "    border: none;\n",
              "    border-radius: 50%;\n",
              "    cursor: pointer;\n",
              "    display: none;\n",
              "    fill: var(--fill-color);\n",
              "    height: 32px;\n",
              "    padding: 0;\n",
              "    width: 32px;\n",
              "  }\n",
              "\n",
              "  .colab-df-quickchart:hover {\n",
              "    background-color: var(--hover-bg-color);\n",
              "    box-shadow: 0 1px 2px rgba(60, 64, 67, 0.3), 0 1px 3px 1px rgba(60, 64, 67, 0.15);\n",
              "    fill: var(--button-hover-fill-color);\n",
              "  }\n",
              "\n",
              "  .colab-df-quickchart-complete:disabled,\n",
              "  .colab-df-quickchart-complete:disabled:hover {\n",
              "    background-color: var(--disabled-bg-color);\n",
              "    fill: var(--disabled-fill-color);\n",
              "    box-shadow: none;\n",
              "  }\n",
              "\n",
              "  .colab-df-spinner {\n",
              "    border: 2px solid var(--fill-color);\n",
              "    border-color: transparent;\n",
              "    border-bottom-color: var(--fill-color);\n",
              "    animation:\n",
              "      spin 1s steps(1) infinite;\n",
              "  }\n",
              "\n",
              "  @keyframes spin {\n",
              "    0% {\n",
              "      border-color: transparent;\n",
              "      border-bottom-color: var(--fill-color);\n",
              "      border-left-color: var(--fill-color);\n",
              "    }\n",
              "    20% {\n",
              "      border-color: transparent;\n",
              "      border-left-color: var(--fill-color);\n",
              "      border-top-color: var(--fill-color);\n",
              "    }\n",
              "    30% {\n",
              "      border-color: transparent;\n",
              "      border-left-color: var(--fill-color);\n",
              "      border-top-color: var(--fill-color);\n",
              "      border-right-color: var(--fill-color);\n",
              "    }\n",
              "    40% {\n",
              "      border-color: transparent;\n",
              "      border-right-color: var(--fill-color);\n",
              "      border-top-color: var(--fill-color);\n",
              "    }\n",
              "    60% {\n",
              "      border-color: transparent;\n",
              "      border-right-color: var(--fill-color);\n",
              "    }\n",
              "    80% {\n",
              "      border-color: transparent;\n",
              "      border-right-color: var(--fill-color);\n",
              "      border-bottom-color: var(--fill-color);\n",
              "    }\n",
              "    90% {\n",
              "      border-color: transparent;\n",
              "      border-bottom-color: var(--fill-color);\n",
              "    }\n",
              "  }\n",
              "</style>\n",
              "\n",
              "  <script>\n",
              "    async function quickchart(key) {\n",
              "      const quickchartButtonEl =\n",
              "        document.querySelector('#' + key + ' button');\n",
              "      quickchartButtonEl.disabled = true;  // To prevent multiple clicks.\n",
              "      quickchartButtonEl.classList.add('colab-df-spinner');\n",
              "      try {\n",
              "        const charts = await google.colab.kernel.invokeFunction(\n",
              "            'suggestCharts', [key], {});\n",
              "      } catch (error) {\n",
              "        console.error('Error during call to suggestCharts:', error);\n",
              "      }\n",
              "      quickchartButtonEl.classList.remove('colab-df-spinner');\n",
              "      quickchartButtonEl.classList.add('colab-df-quickchart-complete');\n",
              "    }\n",
              "    (() => {\n",
              "      let quickchartButtonEl =\n",
              "        document.querySelector('#df-6aa02eb2-bab6-448b-90ee-c92db40c6db2 button');\n",
              "      quickchartButtonEl.style.display =\n",
              "        google.colab.kernel.accessAllowed ? 'block' : 'none';\n",
              "    })();\n",
              "  </script>\n",
              "</div>\n",
              "    </div>\n",
              "  </div>\n"
            ]
          },
          "metadata": {},
          "execution_count": 5
        }
      ]
    },
    {
      "cell_type": "markdown",
      "source": [
        "###2)MODIFIED STOCK RETURNS"
      ],
      "metadata": {
        "id": "3uuhW9Aa0bOf"
      }
    },
    {
      "cell_type": "code",
      "source": [
        "stock_returns_inverted = stock_returns.copy()\n",
        "\n",
        "# Cambia il segno solo nelle colonne ADBE e PFE nel nuovo DataFrame\n",
        "stock_returns_inverted[['ADBE', 'PFE']] = -stock_returns_inverted[['ADBE', 'PFE']]\n",
        "\n",
        "# Visualizza il nuovo DataFrame\n",
        "stock_returns_inverted"
      ],
      "metadata": {
        "colab": {
          "base_uri": "https://localhost:8080/",
          "height": 455
        },
        "id": "stDdeDC1ucAe",
        "outputId": "8e723892-ddf9-42be-90ce-5579e41a699a"
      },
      "execution_count": null,
      "outputs": [
        {
          "output_type": "execute_result",
          "data": {
            "text/plain": [
              "Ticker          ADBE      AMZN      ENPH      FTNT       MCD       PFE\n",
              "Date                                                                  \n",
              "2020-10-02  0.041080 -0.029883  0.010278 -0.032183  0.014026 -0.000275\n",
              "2020-10-05 -0.015616  0.023744  0.084264  0.023286  0.015269 -0.010170\n",
              "2020-10-06  0.015397 -0.031020  0.005303 -0.006634 -0.008758  0.015782\n",
              "2020-10-07 -0.029584  0.030881  0.093842  0.020203  0.010665 -0.008294\n",
              "2020-10-08  0.004684 -0.001608 -0.021517  0.007871 -0.003002 -0.011516\n",
              "...              ...       ...       ...       ...       ...       ...\n",
              "2023-12-28  0.000939  0.000261 -0.006193  0.001011  0.004380 -0.006291\n",
              "2023-12-29 -0.001813 -0.009388 -0.019660 -0.014647  0.002265 -0.000000\n",
              "2024-01-02  0.027707 -0.013229 -0.006811 -0.012814  0.001787 -0.032650\n",
              "2024-01-03  0.014274 -0.009738 -0.065605  0.001211 -0.008921 -0.000000\n",
              "2024-01-04  0.008290 -0.026268 -0.037185  0.009335 -0.009002  0.021527\n",
              "\n",
              "[819 rows x 6 columns]"
            ],
            "text/html": [
              "\n",
              "  <div id=\"df-5da57c78-feec-42e3-9b31-507d990fd624\" class=\"colab-df-container\">\n",
              "    <div>\n",
              "<style scoped>\n",
              "    .dataframe tbody tr th:only-of-type {\n",
              "        vertical-align: middle;\n",
              "    }\n",
              "\n",
              "    .dataframe tbody tr th {\n",
              "        vertical-align: top;\n",
              "    }\n",
              "\n",
              "    .dataframe thead th {\n",
              "        text-align: right;\n",
              "    }\n",
              "</style>\n",
              "<table border=\"1\" class=\"dataframe\">\n",
              "  <thead>\n",
              "    <tr style=\"text-align: right;\">\n",
              "      <th>Ticker</th>\n",
              "      <th>ADBE</th>\n",
              "      <th>AMZN</th>\n",
              "      <th>ENPH</th>\n",
              "      <th>FTNT</th>\n",
              "      <th>MCD</th>\n",
              "      <th>PFE</th>\n",
              "    </tr>\n",
              "    <tr>\n",
              "      <th>Date</th>\n",
              "      <th></th>\n",
              "      <th></th>\n",
              "      <th></th>\n",
              "      <th></th>\n",
              "      <th></th>\n",
              "      <th></th>\n",
              "    </tr>\n",
              "  </thead>\n",
              "  <tbody>\n",
              "    <tr>\n",
              "      <th>2020-10-02</th>\n",
              "      <td>0.041080</td>\n",
              "      <td>-0.029883</td>\n",
              "      <td>0.010278</td>\n",
              "      <td>-0.032183</td>\n",
              "      <td>0.014026</td>\n",
              "      <td>-0.000275</td>\n",
              "    </tr>\n",
              "    <tr>\n",
              "      <th>2020-10-05</th>\n",
              "      <td>-0.015616</td>\n",
              "      <td>0.023744</td>\n",
              "      <td>0.084264</td>\n",
              "      <td>0.023286</td>\n",
              "      <td>0.015269</td>\n",
              "      <td>-0.010170</td>\n",
              "    </tr>\n",
              "    <tr>\n",
              "      <th>2020-10-06</th>\n",
              "      <td>0.015397</td>\n",
              "      <td>-0.031020</td>\n",
              "      <td>0.005303</td>\n",
              "      <td>-0.006634</td>\n",
              "      <td>-0.008758</td>\n",
              "      <td>0.015782</td>\n",
              "    </tr>\n",
              "    <tr>\n",
              "      <th>2020-10-07</th>\n",
              "      <td>-0.029584</td>\n",
              "      <td>0.030881</td>\n",
              "      <td>0.093842</td>\n",
              "      <td>0.020203</td>\n",
              "      <td>0.010665</td>\n",
              "      <td>-0.008294</td>\n",
              "    </tr>\n",
              "    <tr>\n",
              "      <th>2020-10-08</th>\n",
              "      <td>0.004684</td>\n",
              "      <td>-0.001608</td>\n",
              "      <td>-0.021517</td>\n",
              "      <td>0.007871</td>\n",
              "      <td>-0.003002</td>\n",
              "      <td>-0.011516</td>\n",
              "    </tr>\n",
              "    <tr>\n",
              "      <th>...</th>\n",
              "      <td>...</td>\n",
              "      <td>...</td>\n",
              "      <td>...</td>\n",
              "      <td>...</td>\n",
              "      <td>...</td>\n",
              "      <td>...</td>\n",
              "    </tr>\n",
              "    <tr>\n",
              "      <th>2023-12-28</th>\n",
              "      <td>0.000939</td>\n",
              "      <td>0.000261</td>\n",
              "      <td>-0.006193</td>\n",
              "      <td>0.001011</td>\n",
              "      <td>0.004380</td>\n",
              "      <td>-0.006291</td>\n",
              "    </tr>\n",
              "    <tr>\n",
              "      <th>2023-12-29</th>\n",
              "      <td>-0.001813</td>\n",
              "      <td>-0.009388</td>\n",
              "      <td>-0.019660</td>\n",
              "      <td>-0.014647</td>\n",
              "      <td>0.002265</td>\n",
              "      <td>-0.000000</td>\n",
              "    </tr>\n",
              "    <tr>\n",
              "      <th>2024-01-02</th>\n",
              "      <td>0.027707</td>\n",
              "      <td>-0.013229</td>\n",
              "      <td>-0.006811</td>\n",
              "      <td>-0.012814</td>\n",
              "      <td>0.001787</td>\n",
              "      <td>-0.032650</td>\n",
              "    </tr>\n",
              "    <tr>\n",
              "      <th>2024-01-03</th>\n",
              "      <td>0.014274</td>\n",
              "      <td>-0.009738</td>\n",
              "      <td>-0.065605</td>\n",
              "      <td>0.001211</td>\n",
              "      <td>-0.008921</td>\n",
              "      <td>-0.000000</td>\n",
              "    </tr>\n",
              "    <tr>\n",
              "      <th>2024-01-04</th>\n",
              "      <td>0.008290</td>\n",
              "      <td>-0.026268</td>\n",
              "      <td>-0.037185</td>\n",
              "      <td>0.009335</td>\n",
              "      <td>-0.009002</td>\n",
              "      <td>0.021527</td>\n",
              "    </tr>\n",
              "  </tbody>\n",
              "</table>\n",
              "<p>819 rows × 6 columns</p>\n",
              "</div>\n",
              "    <div class=\"colab-df-buttons\">\n",
              "\n",
              "  <div class=\"colab-df-container\">\n",
              "    <button class=\"colab-df-convert\" onclick=\"convertToInteractive('df-5da57c78-feec-42e3-9b31-507d990fd624')\"\n",
              "            title=\"Convert this dataframe to an interactive table.\"\n",
              "            style=\"display:none;\">\n",
              "\n",
              "  <svg xmlns=\"http://www.w3.org/2000/svg\" height=\"24px\" viewBox=\"0 -960 960 960\">\n",
              "    <path d=\"M120-120v-720h720v720H120Zm60-500h600v-160H180v160Zm220 220h160v-160H400v160Zm0 220h160v-160H400v160ZM180-400h160v-160H180v160Zm440 0h160v-160H620v160ZM180-180h160v-160H180v160Zm440 0h160v-160H620v160Z\"/>\n",
              "  </svg>\n",
              "    </button>\n",
              "\n",
              "  <style>\n",
              "    .colab-df-container {\n",
              "      display:flex;\n",
              "      gap: 12px;\n",
              "    }\n",
              "\n",
              "    .colab-df-convert {\n",
              "      background-color: #E8F0FE;\n",
              "      border: none;\n",
              "      border-radius: 50%;\n",
              "      cursor: pointer;\n",
              "      display: none;\n",
              "      fill: #1967D2;\n",
              "      height: 32px;\n",
              "      padding: 0 0 0 0;\n",
              "      width: 32px;\n",
              "    }\n",
              "\n",
              "    .colab-df-convert:hover {\n",
              "      background-color: #E2EBFA;\n",
              "      box-shadow: 0px 1px 2px rgba(60, 64, 67, 0.3), 0px 1px 3px 1px rgba(60, 64, 67, 0.15);\n",
              "      fill: #174EA6;\n",
              "    }\n",
              "\n",
              "    .colab-df-buttons div {\n",
              "      margin-bottom: 4px;\n",
              "    }\n",
              "\n",
              "    [theme=dark] .colab-df-convert {\n",
              "      background-color: #3B4455;\n",
              "      fill: #D2E3FC;\n",
              "    }\n",
              "\n",
              "    [theme=dark] .colab-df-convert:hover {\n",
              "      background-color: #434B5C;\n",
              "      box-shadow: 0px 1px 3px 1px rgba(0, 0, 0, 0.15);\n",
              "      filter: drop-shadow(0px 1px 2px rgba(0, 0, 0, 0.3));\n",
              "      fill: #FFFFFF;\n",
              "    }\n",
              "  </style>\n",
              "\n",
              "    <script>\n",
              "      const buttonEl =\n",
              "        document.querySelector('#df-5da57c78-feec-42e3-9b31-507d990fd624 button.colab-df-convert');\n",
              "      buttonEl.style.display =\n",
              "        google.colab.kernel.accessAllowed ? 'block' : 'none';\n",
              "\n",
              "      async function convertToInteractive(key) {\n",
              "        const element = document.querySelector('#df-5da57c78-feec-42e3-9b31-507d990fd624');\n",
              "        const dataTable =\n",
              "          await google.colab.kernel.invokeFunction('convertToInteractive',\n",
              "                                                    [key], {});\n",
              "        if (!dataTable) return;\n",
              "\n",
              "        const docLinkHtml = 'Like what you see? Visit the ' +\n",
              "          '<a target=\"_blank\" href=https://colab.research.google.com/notebooks/data_table.ipynb>data table notebook</a>'\n",
              "          + ' to learn more about interactive tables.';\n",
              "        element.innerHTML = '';\n",
              "        dataTable['output_type'] = 'display_data';\n",
              "        await google.colab.output.renderOutput(dataTable, element);\n",
              "        const docLink = document.createElement('div');\n",
              "        docLink.innerHTML = docLinkHtml;\n",
              "        element.appendChild(docLink);\n",
              "      }\n",
              "    </script>\n",
              "  </div>\n",
              "\n",
              "\n",
              "<div id=\"df-cc56358e-4ab9-4259-8532-e88655fd9d1c\">\n",
              "  <button class=\"colab-df-quickchart\" onclick=\"quickchart('df-cc56358e-4ab9-4259-8532-e88655fd9d1c')\"\n",
              "            title=\"Suggest charts\"\n",
              "            style=\"display:none;\">\n",
              "\n",
              "<svg xmlns=\"http://www.w3.org/2000/svg\" height=\"24px\"viewBox=\"0 0 24 24\"\n",
              "     width=\"24px\">\n",
              "    <g>\n",
              "        <path d=\"M19 3H5c-1.1 0-2 .9-2 2v14c0 1.1.9 2 2 2h14c1.1 0 2-.9 2-2V5c0-1.1-.9-2-2-2zM9 17H7v-7h2v7zm4 0h-2V7h2v10zm4 0h-2v-4h2v4z\"/>\n",
              "    </g>\n",
              "</svg>\n",
              "  </button>\n",
              "\n",
              "<style>\n",
              "  .colab-df-quickchart {\n",
              "      --bg-color: #E8F0FE;\n",
              "      --fill-color: #1967D2;\n",
              "      --hover-bg-color: #E2EBFA;\n",
              "      --hover-fill-color: #174EA6;\n",
              "      --disabled-fill-color: #AAA;\n",
              "      --disabled-bg-color: #DDD;\n",
              "  }\n",
              "\n",
              "  [theme=dark] .colab-df-quickchart {\n",
              "      --bg-color: #3B4455;\n",
              "      --fill-color: #D2E3FC;\n",
              "      --hover-bg-color: #434B5C;\n",
              "      --hover-fill-color: #FFFFFF;\n",
              "      --disabled-bg-color: #3B4455;\n",
              "      --disabled-fill-color: #666;\n",
              "  }\n",
              "\n",
              "  .colab-df-quickchart {\n",
              "    background-color: var(--bg-color);\n",
              "    border: none;\n",
              "    border-radius: 50%;\n",
              "    cursor: pointer;\n",
              "    display: none;\n",
              "    fill: var(--fill-color);\n",
              "    height: 32px;\n",
              "    padding: 0;\n",
              "    width: 32px;\n",
              "  }\n",
              "\n",
              "  .colab-df-quickchart:hover {\n",
              "    background-color: var(--hover-bg-color);\n",
              "    box-shadow: 0 1px 2px rgba(60, 64, 67, 0.3), 0 1px 3px 1px rgba(60, 64, 67, 0.15);\n",
              "    fill: var(--button-hover-fill-color);\n",
              "  }\n",
              "\n",
              "  .colab-df-quickchart-complete:disabled,\n",
              "  .colab-df-quickchart-complete:disabled:hover {\n",
              "    background-color: var(--disabled-bg-color);\n",
              "    fill: var(--disabled-fill-color);\n",
              "    box-shadow: none;\n",
              "  }\n",
              "\n",
              "  .colab-df-spinner {\n",
              "    border: 2px solid var(--fill-color);\n",
              "    border-color: transparent;\n",
              "    border-bottom-color: var(--fill-color);\n",
              "    animation:\n",
              "      spin 1s steps(1) infinite;\n",
              "  }\n",
              "\n",
              "  @keyframes spin {\n",
              "    0% {\n",
              "      border-color: transparent;\n",
              "      border-bottom-color: var(--fill-color);\n",
              "      border-left-color: var(--fill-color);\n",
              "    }\n",
              "    20% {\n",
              "      border-color: transparent;\n",
              "      border-left-color: var(--fill-color);\n",
              "      border-top-color: var(--fill-color);\n",
              "    }\n",
              "    30% {\n",
              "      border-color: transparent;\n",
              "      border-left-color: var(--fill-color);\n",
              "      border-top-color: var(--fill-color);\n",
              "      border-right-color: var(--fill-color);\n",
              "    }\n",
              "    40% {\n",
              "      border-color: transparent;\n",
              "      border-right-color: var(--fill-color);\n",
              "      border-top-color: var(--fill-color);\n",
              "    }\n",
              "    60% {\n",
              "      border-color: transparent;\n",
              "      border-right-color: var(--fill-color);\n",
              "    }\n",
              "    80% {\n",
              "      border-color: transparent;\n",
              "      border-right-color: var(--fill-color);\n",
              "      border-bottom-color: var(--fill-color);\n",
              "    }\n",
              "    90% {\n",
              "      border-color: transparent;\n",
              "      border-bottom-color: var(--fill-color);\n",
              "    }\n",
              "  }\n",
              "</style>\n",
              "\n",
              "  <script>\n",
              "    async function quickchart(key) {\n",
              "      const quickchartButtonEl =\n",
              "        document.querySelector('#' + key + ' button');\n",
              "      quickchartButtonEl.disabled = true;  // To prevent multiple clicks.\n",
              "      quickchartButtonEl.classList.add('colab-df-spinner');\n",
              "      try {\n",
              "        const charts = await google.colab.kernel.invokeFunction(\n",
              "            'suggestCharts', [key], {});\n",
              "      } catch (error) {\n",
              "        console.error('Error during call to suggestCharts:', error);\n",
              "      }\n",
              "      quickchartButtonEl.classList.remove('colab-df-spinner');\n",
              "      quickchartButtonEl.classList.add('colab-df-quickchart-complete');\n",
              "    }\n",
              "    (() => {\n",
              "      let quickchartButtonEl =\n",
              "        document.querySelector('#df-cc56358e-4ab9-4259-8532-e88655fd9d1c button');\n",
              "      quickchartButtonEl.style.display =\n",
              "        google.colab.kernel.accessAllowed ? 'block' : 'none';\n",
              "    })();\n",
              "  </script>\n",
              "</div>\n",
              "    </div>\n",
              "  </div>\n"
            ]
          },
          "metadata": {},
          "execution_count": 6
        }
      ]
    },
    {
      "cell_type": "markdown",
      "source": [
        "##B)EXPECTED RETURNS"
      ],
      "metadata": {
        "id": "bgHAaSycRnr-"
      }
    },
    {
      "cell_type": "markdown",
      "metadata": {
        "id": "ln0LZY5jXdUA"
      },
      "source": [
        "##1) Expected Returns ORIGINAL"
      ]
    },
    {
      "cell_type": "code",
      "metadata": {
        "colab": {
          "base_uri": "https://localhost:8080/"
        },
        "id": "wPr3AcWsZlVK",
        "outputId": "5a0aa9ce-1f76-4d92-eb65-00de3207241b"
      },
      "source": [
        "\n",
        "#\"ADBE\", \"AMZN\", \"ENPH\", \"FTNT\", \"MCD\", \"PFE\"\n",
        "er= [-0.15, 0.08, 0.30, 0.14, 0.12, -0.20]\n",
        "\n",
        "# Creazione del DataFrame con i rendimenti attesi\n",
        "expected_returns_df = pd.DataFrame(index=stocks, data={\"expected_returns\": er})\n",
        "expected_returns_series = expected_returns_df[\"expected_returns\"]\n",
        "\n",
        "# Visualizza la Serie di rendimenti attesi\n",
        "print(expected_returns_series)\n"
      ],
      "execution_count": null,
      "outputs": [
        {
          "output_type": "stream",
          "name": "stdout",
          "text": [
            "ADBE   -0.15\n",
            "AMZN    0.08\n",
            "ENPH    0.30\n",
            "FTNT    0.14\n",
            "MCD     0.12\n",
            "PFE    -0.20\n",
            "Name: expected_returns, dtype: float64\n"
          ]
        }
      ]
    },
    {
      "cell_type": "markdown",
      "source": [
        "##2)EXPECTED RETURNS ALL POSITIVE"
      ],
      "metadata": {
        "id": "irttb1280HSO"
      }
    },
    {
      "cell_type": "code",
      "source": [
        "er_inverted = [0.15, 0.08, 0.30, 0.14, 0.12, 0.20]\n",
        "\n",
        "\n",
        "# Creazione del DataFrame con i rendimenti attesi\n",
        "expected_returns_df = pd.DataFrame(index=stocks, data={\"expected_returns\": er_inverted})\n",
        "expected_returns_series_inverted = expected_returns_df[\"expected_returns\"]\n",
        "\n",
        "# Visualizza la Serie di rendimenti attesi\n",
        "print(expected_returns_series_inverted)"
      ],
      "metadata": {
        "colab": {
          "base_uri": "https://localhost:8080/"
        },
        "id": "rZL3BVeiz3aZ",
        "outputId": "187d4e60-d690-419c-a0e5-dc937f906444"
      },
      "execution_count": null,
      "outputs": [
        {
          "output_type": "stream",
          "name": "stdout",
          "text": [
            "ADBE    0.15\n",
            "AMZN    0.08\n",
            "ENPH    0.30\n",
            "FTNT    0.14\n",
            "MCD     0.12\n",
            "PFE     0.20\n",
            "Name: expected_returns, dtype: float64\n"
          ]
        }
      ]
    },
    {
      "cell_type": "markdown",
      "metadata": {
        "id": "EzkvbwNga0CZ"
      },
      "source": [
        "##C) Variance-Covariance Matrix"
      ]
    },
    {
      "cell_type": "markdown",
      "source": [
        "##ORIGINAL MATRIX"
      ],
      "metadata": {
        "id": "8FHGQGbSQGFD"
      }
    },
    {
      "cell_type": "code",
      "source": [
        "cov_matrix = risk_models.sample_cov(stock_data)\n",
        "print(cov_matrix)"
      ],
      "metadata": {
        "colab": {
          "base_uri": "https://localhost:8080/"
        },
        "id": "baQ76mj6y4h1",
        "outputId": "2dc18b5e-c8fb-41bd-88d6-cda984e7108c"
      },
      "execution_count": null,
      "outputs": [
        {
          "output_type": "stream",
          "name": "stdout",
          "text": [
            "Ticker      ADBE      AMZN      ENPH      FTNT       MCD       PFE\n",
            "Ticker                                                            \n",
            "ADBE    0.127974  0.081290  0.091984  0.088622  0.019089  0.011134\n",
            "AMZN    0.081290  0.137301  0.081160  0.072140  0.017446  0.010137\n",
            "ENPH    0.091984  0.081160  0.454314  0.105865  0.018498  0.004934\n",
            "FTNT    0.088622  0.072140  0.105865  0.190570  0.020031  0.018947\n",
            "MCD     0.019089  0.017446  0.018498  0.020031  0.027472  0.006382\n",
            "PFE     0.011134  0.010137  0.004934  0.018947  0.006382  0.068420\n"
          ]
        }
      ]
    },
    {
      "cell_type": "markdown",
      "source": [
        "##MODIFIED MATRIX (I CALL IT COV_MATRIX_INVERTED)"
      ],
      "metadata": {
        "id": "vz37Eeju0OU-"
      }
    },
    {
      "cell_type": "code",
      "source": [
        "cov_matrix_inverted = risk_models.sample_cov(stock_returns_inverted,returns_data=True)\n",
        "print(cov_matrix_inverted)\n"
      ],
      "metadata": {
        "colab": {
          "base_uri": "https://localhost:8080/"
        },
        "id": "NDyxY2iyxRZd",
        "outputId": "99f7a033-b323-4878-8e66-6b7e0333e34a"
      },
      "execution_count": null,
      "outputs": [
        {
          "output_type": "stream",
          "name": "stdout",
          "text": [
            "Ticker      ADBE      AMZN      ENPH      FTNT       MCD       PFE\n",
            "Ticker                                                            \n",
            "ADBE    0.127974 -0.081290 -0.091984 -0.088622 -0.019089  0.011134\n",
            "AMZN   -0.081290  0.137301  0.081160  0.072140  0.017446 -0.010137\n",
            "ENPH   -0.091984  0.081160  0.454314  0.105865  0.018498 -0.004934\n",
            "FTNT   -0.088622  0.072140  0.105865  0.190570  0.020031 -0.018947\n",
            "MCD    -0.019089  0.017446  0.018498  0.020031  0.027472 -0.006382\n",
            "PFE     0.011134 -0.010137 -0.004934 -0.018947 -0.006382  0.068420\n"
          ]
        }
      ]
    },
    {
      "cell_type": "markdown",
      "source": [
        "##ORIGINAL CORRELATION"
      ],
      "metadata": {
        "id": "yktCLPWZQeJj"
      }
    },
    {
      "cell_type": "code",
      "source": [
        "corr_matrix = risk_models.cov_to_corr(cov_matrix)\n",
        "print(corr_matrix)"
      ],
      "metadata": {
        "colab": {
          "base_uri": "https://localhost:8080/"
        },
        "id": "GLFuJi3ba0VU",
        "outputId": "a1ce15ba-3df0-4220-fcd2-e8197a2f312d"
      },
      "execution_count": null,
      "outputs": [
        {
          "output_type": "stream",
          "name": "stdout",
          "text": [
            "Ticker      ADBE      AMZN      ENPH      FTNT       MCD       PFE\n",
            "Ticker                                                            \n",
            "ADBE    1.000000  0.613254  0.381484  0.567486  0.321937  0.118987\n",
            "AMZN    0.613254  1.000000  0.324959  0.445975  0.284070  0.104584\n",
            "ENPH    0.381484  0.324959  1.000000  0.359787  0.165575  0.027988\n",
            "FTNT    0.567486  0.445975  0.359787  1.000000  0.276838  0.165931\n",
            "MCD     0.321937  0.284070  0.165575  0.276838  1.000000  0.147199\n",
            "PFE     0.118987  0.104584  0.027988  0.165931  0.147199  1.000000\n"
          ]
        }
      ]
    },
    {
      "cell_type": "markdown",
      "source": [
        "##MODIFIED CORRELATION"
      ],
      "metadata": {
        "id": "he7kGev50XVQ"
      }
    },
    {
      "cell_type": "code",
      "source": [
        "corr_matrix_inverted = risk_models.cov_to_corr(cov_matrix_inverted)\n",
        "print(corr_matrix_inverted)"
      ],
      "metadata": {
        "colab": {
          "base_uri": "https://localhost:8080/"
        },
        "id": "K-sSyzexx-HO",
        "outputId": "e85ace04-be45-4de5-d6a8-4a25b002368f"
      },
      "execution_count": null,
      "outputs": [
        {
          "output_type": "stream",
          "name": "stdout",
          "text": [
            "Ticker      ADBE      AMZN      ENPH      FTNT       MCD       PFE\n",
            "Ticker                                                            \n",
            "ADBE    1.000000 -0.613254 -0.381484 -0.567486 -0.321937  0.118987\n",
            "AMZN   -0.613254  1.000000  0.324959  0.445975  0.284070 -0.104584\n",
            "ENPH   -0.381484  0.324959  1.000000  0.359787  0.165575 -0.027988\n",
            "FTNT   -0.567486  0.445975  0.359787  1.000000  0.276838 -0.165931\n",
            "MCD    -0.321937  0.284070  0.165575  0.276838  1.000000 -0.147199\n",
            "PFE     0.118987 -0.104584 -0.027988 -0.165931 -0.147199  1.000000\n"
          ]
        }
      ]
    },
    {
      "cell_type": "markdown",
      "metadata": {
        "id": "ddeRsJxjYySv"
      },
      "source": [
        "# Mean-Variance Efficient Portfolio"
      ]
    },
    {
      "cell_type": "markdown",
      "source": [
        "##1)Optimization 1 (orginal er, cox matrix --> to find weights to rescale)"
      ],
      "metadata": {
        "id": "_x6PJ1y_V-DE"
      }
    },
    {
      "cell_type": "code",
      "source": [
        "ef = EfficientFrontier(expected_returns_series, cov_matrix, weight_bounds = (-1,1))\n",
        "ef.max_sharpe()\n",
        "\n",
        "weights = ef.clean_weights()\n",
        "print(weights)\n",
        "ef.portfolio_performance(verbose=True)"
      ],
      "metadata": {
        "colab": {
          "base_uri": "https://localhost:8080/"
        },
        "id": "-ovLJkRbT21v",
        "outputId": "9973dfb4-f2e3-450c-a3a8-ed9ee322bbf4"
      },
      "execution_count": null,
      "outputs": [
        {
          "output_type": "stream",
          "name": "stdout",
          "text": [
            "OrderedDict([('ADBE', -1.0), ('AMZN', 0.60904), ('ENPH', 0.2454), ('FTNT', 0.50404), ('MCD', 1.0), ('PFE', -0.35848)])\n",
            "Expected annual return: 53.5%\n",
            "Annual volatility: 39.5%\n",
            "Sharpe Ratio: 1.30\n"
          ]
        },
        {
          "output_type": "execute_result",
          "data": {
            "text/plain": [
              "(0.5346062226729995, 0.3947037498153074, 1.3037783981373312)"
            ]
          },
          "metadata": {},
          "execution_count": 13
        }
      ]
    },
    {
      "cell_type": "code",
      "source": [
        "rescaled = ef.weights / np.abs(ef.weights).sum()\n",
        "print(np.abs(ef.weights).sum())\n",
        "np.abs(rescaled).sum()  # = 1.000000\n",
        "print(rescaled)"
      ],
      "metadata": {
        "colab": {
          "base_uri": "https://localhost:8080/"
        },
        "id": "NUfjcPrWcXEN",
        "outputId": "9ea1208e-1d34-4b24-abba-47d68664a661"
      },
      "execution_count": null,
      "outputs": [
        {
          "output_type": "stream",
          "name": "stdout",
          "text": [
            "3.716963331811177\n",
            "[-0.26903682  0.16385363  0.06602287  0.13560509  0.26903682 -0.09644477]\n"
          ]
        }
      ]
    },
    {
      "cell_type": "code",
      "source": [
        "from pypfopt import base_optimizer\n",
        "\n",
        "perfomance_portafoglio_finale = base_optimizer.portfolio_performance(\n",
        "    rescaled, expected_returns_series, cov_matrix, verbose=True, risk_free_rate=0.02\n",
        ")\n",
        "print(perfomance_portafoglio_finale)"
      ],
      "metadata": {
        "colab": {
          "base_uri": "https://localhost:8080/"
        },
        "id": "nvCsij_2cgGp",
        "outputId": "e0f4b770-0719-4db5-b3d7-4d40d4d5f180"
      },
      "execution_count": null,
      "outputs": [
        {
          "output_type": "stream",
          "name": "stdout",
          "text": [
            "Expected annual return: 14.4%\n",
            "Annual volatility: 10.6%\n",
            "Sharpe Ratio: 1.17\n",
            "(0.1438287588412932, 0.10618984223957326, 1.1661073811742282)\n"
          ]
        }
      ]
    },
    {
      "cell_type": "markdown",
      "source": [
        "##2)OPTIMIZATION 2(er all positive, cov_matrix modified)"
      ],
      "metadata": {
        "id": "ilX4HKI-hcAV"
      }
    },
    {
      "cell_type": "code",
      "source": [
        "ef_inverted = EfficientFrontier(expected_returns_series_inverted, cov_matrix_inverted, weight_bounds = (0,1))\n",
        "ef_inverted.max_sharpe()\n",
        "\n",
        "weights_allpositive = ef_inverted.clean_weights()\n",
        "print(weights_allpositive)\n",
        "ef_inverted.portfolio_performance(verbose=True)"
      ],
      "metadata": {
        "colab": {
          "base_uri": "https://localhost:8080/"
        },
        "id": "tTz7ubGd0tET",
        "outputId": "44a63341-4df7-42e2-9e17-1224a26fd17a"
      },
      "execution_count": null,
      "outputs": [
        {
          "output_type": "stream",
          "name": "stdout",
          "text": [
            "OrderedDict([('ADBE', 0.24502), ('AMZN', 0.07417), ('ENPH', 0.04728), ('FTNT', 0.09022), ('MCD', 0.32939), ('PFE', 0.21392)])\n",
            "Expected annual return: 15.2%\n",
            "Annual volatility: 9.6%\n",
            "Sharpe Ratio: 1.37\n"
          ]
        },
        {
          "output_type": "execute_result",
          "data": {
            "text/plain": [
              "(0.1518127951365767, 0.09593494050353708, 1.373981100574267)"
            ]
          },
          "metadata": {},
          "execution_count": 16
        }
      ]
    },
    {
      "cell_type": "markdown",
      "source": [
        "###change of sign of the asset that we want to short (in accordance to our expectation)"
      ],
      "metadata": {
        "id": "137q_zvpTQdj"
      }
    },
    {
      "cell_type": "code",
      "source": [
        "weights_longshort = weights_allpositive.copy()\n",
        "\n",
        "# Inverti il segno solo nelle colonne ADBE e PFE\n",
        "weights_longshort['ADBE'] = -weights_longshort['ADBE']\n",
        "weights_longshort['PFE'] = -weights_longshort['PFE']\n",
        "\n",
        "# Visualizza i pesi con il segno invertito\n",
        "print(weights_longshort)"
      ],
      "metadata": {
        "colab": {
          "base_uri": "https://localhost:8080/"
        },
        "id": "S4pgR-yw8yMr",
        "outputId": "754ef863-609e-4b85-c953-48ceb66989fa"
      },
      "execution_count": null,
      "outputs": [
        {
          "output_type": "stream",
          "name": "stdout",
          "text": [
            "OrderedDict([('ADBE', -0.24502), ('AMZN', 0.07417), ('ENPH', 0.04728), ('FTNT', 0.09022), ('MCD', 0.32939), ('PFE', -0.21392)])\n"
          ]
        }
      ]
    },
    {
      "cell_type": "markdown",
      "source": [
        "test to see if by using the original er, cov_matrix and weights long/short we get the same return"
      ],
      "metadata": {
        "id": "LUI7UCnwTfGY"
      }
    },
    {
      "cell_type": "code",
      "source": [
        "from pypfopt import base_optimizer\n",
        "\n",
        "perfomance_portafoglio_finale = base_optimizer.portfolio_performance(\n",
        "    weights_longshort, expected_returns_series, cov_matrix, verbose=True, risk_free_rate=0.02\n",
        ")\n",
        "print(perfomance_portafoglio_finale)"
      ],
      "metadata": {
        "colab": {
          "base_uri": "https://localhost:8080/"
        },
        "id": "Ts0h-Uut5PQ7",
        "outputId": "0a8c6071-0f87-4c9f-e68f-1557818a0d93"
      },
      "execution_count": null,
      "outputs": [
        {
          "output_type": "stream",
          "name": "stdout",
          "text": [
            "Expected annual return: 15.2%\n",
            "Annual volatility: 9.6%\n",
            "Sharpe Ratio: 1.37\n",
            "(0.1518122, 0.09593450738733082, 1.373981100125055)\n"
          ]
        }
      ]
    }
  ]
}